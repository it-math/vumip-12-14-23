{
 "cells": [
  {
   "cell_type": "code",
   "execution_count": null,
   "metadata": {},
   "outputs": [],
   "source": [
    "try:\n",
    "    блок 1 # интерпретатор пытается выполнить блок1\n",
    "except (name1, name2):\n",
    "    блок 2 # выполняется, если в блоке try возникло исключение name1 или name2 \n",
    "except name3:\n",
    "    блок 3 # выполняется, если в блоке try возник-ло исключение name3\n",
    "except:\n",
    "    блок 4 # выполняется для всех остальных возникших исключений\n",
    "else:\n",
    "    блок 5 # выполняется, если в блоке try не возникло исключения\n",
    "finally: \n",
    "    блок 6 # выполнится всегда\n"
   ]
  },
  {
   "cell_type": "code",
   "execution_count": null,
   "metadata": {},
   "outputs": [],
   "source": []
  }
 ],
 "metadata": {
  "kernelspec": {
   "display_name": "Python 3",
   "language": "python",
   "name": "python3"
  },
  "language_info": {
   "name": "python",
   "version": "3.8.3"
  }
 },
 "nbformat": 4,
 "nbformat_minor": 2
}
