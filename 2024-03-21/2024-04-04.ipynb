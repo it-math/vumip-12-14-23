{
 "cells": [
  {
   "cell_type": "markdown",
   "metadata": {},
   "source": [
    "Строки"
   ]
  },
  {
   "cell_type": "code",
   "execution_count": null,
   "metadata": {},
   "outputs": [],
   "source": [
    "s = 'hello'\n",
    "ss = \"hello\"\n",
    "sss = \"Mum's home\"\n",
    "ssss = '''Hello\n",
    "chgdscdgcjhdsgdsgcfhjdsg\n",
    "djhsgfjhdgjhgajhfdgdahjgfdhjdagf\n",
    "jhdfjhdgdhjagjhajhahjfgdahjgfjhdafj'''"
   ]
  },
  {
   "cell_type": "code",
   "execution_count": 1,
   "metadata": {},
   "outputs": [
    {
     "name": "stdout",
     "output_type": "stream",
     "text": [
      "hellohellohello\n"
     ]
    }
   ],
   "source": [
    "s = 'hello' * 3\n",
    "print(s)"
   ]
  },
  {
   "cell_type": "code",
   "execution_count": 7,
   "metadata": {},
   "outputs": [
    {
     "name": "stdout",
     "output_type": "stream",
     "text": [
      "hellopython 11\n",
      "h n n\n"
     ]
    }
   ],
   "source": [
    "s = 'hello' + 'python'\n",
    "print(s, len(s))\n",
    "print(s[0], s[-1], s[len(s)-1])"
   ]
  },
  {
   "cell_type": "code",
   "execution_count": 16,
   "metadata": {},
   "outputs": [
    {
     "name": "stdout",
     "output_type": "stream",
     "text": [
      "cde\n",
      "bdf\n",
      "defgh\n",
      "abcdef\n",
      "hgfedcba\n",
      "\n",
      "hfd\n"
     ]
    },
    {
     "ename": "TypeError",
     "evalue": "'str' object does not support item assignment",
     "output_type": "error",
     "traceback": [
      "\u001b[1;31m---------------------------------------------------------------------------\u001b[0m",
      "\u001b[1;31mTypeError\u001b[0m                                 Traceback (most recent call last)",
      "Cell \u001b[1;32mIn[16], line 19\u001b[0m\n\u001b[0;32m     17\u001b[0m s1 \u001b[38;5;241m=\u001b[39m s[::\u001b[38;5;241m2\u001b[39m]\n\u001b[0;32m     18\u001b[0m s2 \u001b[38;5;241m=\u001b[39m s[\u001b[38;5;241m1\u001b[39m::\u001b[38;5;241m2\u001b[39m]\n\u001b[1;32m---> 19\u001b[0m \u001b[43ms\u001b[49m\u001b[43m[\u001b[49m\u001b[38;5;241;43m0\u001b[39;49m\u001b[43m]\u001b[49m \u001b[38;5;241m=\u001b[39m \u001b[38;5;124m'\u001b[39m\u001b[38;5;124mA\u001b[39m\u001b[38;5;124m'\u001b[39m\n",
      "\u001b[1;31mTypeError\u001b[0m: 'str' object does not support item assignment"
     ]
    }
   ],
   "source": [
    "s = 'abcdefgh'\n",
    "#print(s[20])\n",
    "ss = s[2:5]\n",
    "print(ss)\n",
    "ss1 = s[1:7:2]\n",
    "print(ss1)\n",
    "ss2 = s[3:]\n",
    "print(ss2)\n",
    "ss3 = s[:6]\n",
    "print(ss3)\n",
    "ss4 = s[::-1]\n",
    "print(ss4)\n",
    "ss5 = s[1:7:-1]\n",
    "print(ss5)\n",
    "ss6 = s[-1:-7:-2]\n",
    "print(ss6)\n",
    "s1 = s[::2]\n",
    "s2 = s[1::2]\n",
    "#s[0] = 'A'\n",
    "s = 'A' + s[1:]"
   ]
  },
  {
   "cell_type": "code",
   "execution_count": 17,
   "metadata": {},
   "outputs": [
    {
     "name": "stdout",
     "output_type": "stream",
     "text": [
      "ab\n",
      "cd\tvn\u000babv\n"
     ]
    }
   ],
   "source": [
    "s = 'ab\\ncd\\tvn\\vabv'\n",
    "print(s)"
   ]
  },
  {
   "cell_type": "code",
   "execution_count": 22,
   "metadata": {},
   "outputs": [
    {
     "name": "stdout",
     "output_type": "stream",
     "text": [
      "C:\\number\\n.txt\n"
     ]
    }
   ],
   "source": [
    "s = 'C:\\\\number\\\\n.txt'\n",
    "s1 = r'C:\\number\\n.txt'\n",
    "print(s1)"
   ]
  },
  {
   "cell_type": "code",
   "execution_count": 29,
   "metadata": {},
   "outputs": [
    {
     "name": "stdout",
     "output_type": "stream",
     "text": [
      "0\n",
      "10\n",
      "-1\n",
      "6\n",
      "1\n"
     ]
    }
   ],
   "source": [
    "s = 'abcdefabaaaf'\n",
    "k = s.find('a')\n",
    "print(k)\n",
    "k1 = s.rfind('a')\n",
    "print(k1)\n",
    "k2 = s.find('x')\n",
    "print(k2)\n",
    "k3 = s.find('a',3, 9)\n",
    "#k3 = s.find(str,[start],[end])\n",
    "print(k3)\n",
    "kk = s.find('bcd')\n",
    "print(kk)"
   ]
  },
  {
   "cell_type": "code",
   "execution_count": 30,
   "metadata": {},
   "outputs": [
    {
     "ename": "ValueError",
     "evalue": "substring not found",
     "output_type": "error",
     "traceback": [
      "\u001b[1;31m---------------------------------------------------------------------------\u001b[0m",
      "\u001b[1;31mValueError\u001b[0m                                Traceback (most recent call last)",
      "Cell \u001b[1;32mIn[30], line 2\u001b[0m\n\u001b[0;32m      1\u001b[0m s \u001b[38;5;241m=\u001b[39m \u001b[38;5;124m'\u001b[39m\u001b[38;5;124mabcdefabaaaf\u001b[39m\u001b[38;5;124m'\u001b[39m\n\u001b[1;32m----> 2\u001b[0m k \u001b[38;5;241m=\u001b[39m \u001b[43ms\u001b[49m\u001b[38;5;241;43m.\u001b[39;49m\u001b[43mindex\u001b[49m\u001b[43m(\u001b[49m\u001b[38;5;124;43m'\u001b[39;49m\u001b[38;5;124;43mx\u001b[39;49m\u001b[38;5;124;43m'\u001b[39;49m\u001b[43m)\u001b[49m\n\u001b[0;32m      3\u001b[0m \u001b[38;5;28mprint\u001b[39m(k)\n",
      "\u001b[1;31mValueError\u001b[0m: substring not found"
     ]
    }
   ],
   "source": [
    "s = 'abcdefabaaaf'\n",
    "k = s.index('x')\n",
    "print(k)"
   ]
  },
  {
   "cell_type": "code",
   "execution_count": 44,
   "metadata": {},
   "outputs": [
    {
     "name": "stdout",
     "output_type": "stream",
     "text": [
      "gaghgaaaghaaa\n",
      "2\n"
     ]
    }
   ],
   "source": [
    "s = 'agaaghgaaaghaaa'\n",
    "s = s.replace('a', '', 2)\n",
    "print(s)\n",
    "k = s.count('aa')\n",
    "print(k)"
   ]
  },
  {
   "cell_type": "code",
   "execution_count": 45,
   "metadata": {},
   "outputs": [
    {
     "name": "stdout",
     "output_type": "stream",
     "text": [
      "False\n"
     ]
    }
   ],
   "source": [
    "s = '32111u1414'\n",
    "print(s.isdigit())"
   ]
  },
  {
   "cell_type": "code",
   "execution_count": 46,
   "metadata": {},
   "outputs": [
    {
     "name": "stdout",
     "output_type": "stream",
     "text": [
      "True\n"
     ]
    }
   ],
   "source": [
    "s = 'gfddgf4654564'\n",
    "print(s.isalnum())"
   ]
  },
  {
   "cell_type": "code",
   "execution_count": 47,
   "metadata": {},
   "outputs": [
    {
     "name": "stdout",
     "output_type": "stream",
     "text": [
      "True\n"
     ]
    }
   ],
   "source": [
    "s = 'ctyrtyvtyubi'\n",
    "print(s.isalpha())"
   ]
  },
  {
   "cell_type": "code",
   "execution_count": 50,
   "metadata": {},
   "outputs": [
    {
     "name": "stdout",
     "output_type": "stream",
     "text": [
      "агапов\n"
     ]
    }
   ],
   "source": [
    "s = 'агапов'\n",
    "s = 'аГАПОВ'\n",
    "#s = 'АГАПОВ'\n",
    "s = s.upper()\n",
    "print(s)"
   ]
  },
  {
   "cell_type": "code",
   "execution_count": 55,
   "metadata": {},
   "outputs": [
    {
     "name": "stdout",
     "output_type": "stream",
     "text": [
      "True\n"
     ]
    }
   ],
   "source": [
    "s = '123vhfdjvgjfdvd'\n",
    "print(s.endswith('vd'))"
   ]
  },
  {
   "cell_type": "code",
   "execution_count": 64,
   "metadata": {},
   "outputs": [
    {
     "name": "stdout",
     "output_type": "stream",
     "text": [
      "False\n",
      "False\n",
      "True\n",
      "72\n",
      "104\n"
     ]
    }
   ],
   "source": [
    "s1 = 'XYZ'\n",
    "s2 = 'a'\n",
    "print(s1 == s2)\n",
    "print(s2 < s1)\n",
    "print(s1 < s2)\n",
    "print(ord('H'))\n",
    "print(ord('h'))"
   ]
  },
  {
   "cell_type": "code",
   "execution_count": 67,
   "metadata": {},
   "outputs": [
    {
     "name": "stdout",
     "output_type": "stream",
     "text": [
      "1000 Ϩ\n",
      "1001 ϩ\n",
      "1002 Ϫ\n",
      "1003 ϫ\n",
      "1004 Ϭ\n",
      "1005 ϭ\n",
      "1006 Ϯ\n",
      "1007 ϯ\n",
      "1008 ϰ\n",
      "1009 ϱ\n",
      "1010 ϲ\n",
      "1011 ϳ\n",
      "1012 ϴ\n",
      "1013 ϵ\n",
      "1014 ϶\n",
      "1015 Ϸ\n",
      "1016 ϸ\n",
      "1017 Ϲ\n",
      "1018 Ϻ\n",
      "1019 ϻ\n",
      "1020 ϼ\n",
      "1021 Ͻ\n",
      "1022 Ͼ\n",
      "1023 Ͽ\n",
      "1024 Ѐ\n",
      "1025 Ё\n",
      "1026 Ђ\n",
      "1027 Ѓ\n",
      "1028 Є\n",
      "1029 Ѕ\n",
      "1030 І\n",
      "1031 Ї\n",
      "1032 Ј\n",
      "1033 Љ\n",
      "1034 Њ\n",
      "1035 Ћ\n",
      "1036 Ќ\n",
      "1037 Ѝ\n",
      "1038 Ў\n",
      "1039 Џ\n",
      "1040 А\n",
      "1041 Б\n",
      "1042 В\n",
      "1043 Г\n",
      "1044 Д\n",
      "1045 Е\n",
      "1046 Ж\n",
      "1047 З\n",
      "1048 И\n",
      "1049 Й\n",
      "1050 К\n",
      "1051 Л\n",
      "1052 М\n",
      "1053 Н\n",
      "1054 О\n",
      "1055 П\n",
      "1056 Р\n",
      "1057 С\n",
      "1058 Т\n",
      "1059 У\n",
      "1060 Ф\n",
      "1061 Х\n",
      "1062 Ц\n",
      "1063 Ч\n",
      "1064 Ш\n",
      "1065 Щ\n",
      "1066 Ъ\n",
      "1067 Ы\n",
      "1068 Ь\n",
      "1069 Э\n",
      "1070 Ю\n",
      "1071 Я\n",
      "1072 а\n",
      "1073 б\n",
      "1074 в\n",
      "1075 г\n",
      "1076 д\n",
      "1077 е\n",
      "1078 ж\n",
      "1079 з\n",
      "1080 и\n",
      "1081 й\n",
      "1082 к\n",
      "1083 л\n",
      "1084 м\n",
      "1085 н\n",
      "1086 о\n",
      "1087 п\n",
      "1088 р\n",
      "1089 с\n",
      "1090 т\n",
      "1091 у\n",
      "1092 ф\n",
      "1093 х\n",
      "1094 ц\n",
      "1095 ч\n",
      "1096 ш\n",
      "1097 щ\n",
      "1098 ъ\n",
      "1099 ы\n",
      "1100 ь\n",
      "1101 э\n",
      "1102 ю\n",
      "1103 я\n",
      "1104 ѐ\n",
      "1105 ё\n",
      "1106 ђ\n",
      "1107 ѓ\n",
      "1108 є\n",
      "1109 ѕ\n",
      "1110 і\n",
      "1111 ї\n",
      "1112 ј\n",
      "1113 љ\n",
      "1114 њ\n",
      "1115 ћ\n",
      "1116 ќ\n",
      "1117 ѝ\n",
      "1118 ў\n",
      "1119 џ\n",
      "1120 Ѡ\n",
      "1121 ѡ\n",
      "1122 Ѣ\n",
      "1123 ѣ\n",
      "1124 Ѥ\n",
      "1125 ѥ\n",
      "1126 Ѧ\n",
      "1127 ѧ\n",
      "1128 Ѩ\n",
      "1129 ѩ\n",
      "1130 Ѫ\n",
      "1131 ѫ\n",
      "1132 Ѭ\n",
      "1133 ѭ\n",
      "1134 Ѯ\n",
      "1135 ѯ\n",
      "1136 Ѱ\n",
      "1137 ѱ\n",
      "1138 Ѳ\n",
      "1139 ѳ\n",
      "1140 Ѵ\n",
      "1141 ѵ\n",
      "1142 Ѷ\n",
      "1143 ѷ\n",
      "1144 Ѹ\n",
      "1145 ѹ\n",
      "1146 Ѻ\n",
      "1147 ѻ\n",
      "1148 Ѽ\n",
      "1149 ѽ\n",
      "1150 Ѿ\n",
      "1151 ѿ\n",
      "1152 Ҁ\n",
      "1153 ҁ\n",
      "1154 ҂\n",
      "1155 ҃\n",
      "1156 ҄\n",
      "1157 ҅\n",
      "1158 ҆\n",
      "1159 ҇\n",
      "1160 ҈\n",
      "1161 ҉\n",
      "1162 Ҋ\n",
      "1163 ҋ\n",
      "1164 Ҍ\n",
      "1165 ҍ\n",
      "1166 Ҏ\n",
      "1167 ҏ\n",
      "1168 Ґ\n",
      "1169 ґ\n",
      "1170 Ғ\n",
      "1171 ғ\n",
      "1172 Ҕ\n",
      "1173 ҕ\n",
      "1174 Җ\n",
      "1175 җ\n",
      "1176 Ҙ\n",
      "1177 ҙ\n",
      "1178 Қ\n",
      "1179 қ\n",
      "1180 Ҝ\n",
      "1181 ҝ\n",
      "1182 Ҟ\n",
      "1183 ҟ\n",
      "1184 Ҡ\n",
      "1185 ҡ\n",
      "1186 Ң\n",
      "1187 ң\n",
      "1188 Ҥ\n",
      "1189 ҥ\n",
      "1190 Ҧ\n",
      "1191 ҧ\n",
      "1192 Ҩ\n",
      "1193 ҩ\n",
      "1194 Ҫ\n",
      "1195 ҫ\n",
      "1196 Ҭ\n",
      "1197 ҭ\n",
      "1198 Ү\n",
      "1199 ү\n"
     ]
    }
   ],
   "source": [
    "for i in range(1000, 1200):\n",
    "    print(i, chr(i))"
   ]
  }
 ],
 "metadata": {
  "kernelspec": {
   "display_name": "Python 3",
   "language": "python",
   "name": "python3"
  },
  "language_info": {
   "codemirror_mode": {
    "name": "ipython",
    "version": 3
   },
   "file_extension": ".py",
   "mimetype": "text/x-python",
   "name": "python",
   "nbconvert_exporter": "python",
   "pygments_lexer": "ipython3",
   "version": "3.8.3"
  }
 },
 "nbformat": 4,
 "nbformat_minor": 2
}
