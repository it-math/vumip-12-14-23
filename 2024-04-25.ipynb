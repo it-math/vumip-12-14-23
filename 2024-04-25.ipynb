{
 "cells": [
  {
   "cell_type": "code",
   "execution_count": 1,
   "metadata": {},
   "outputs": [
    {
     "name": "stdout",
     "output_type": "stream",
     "text": [
      "Hello\n"
     ]
    }
   ],
   "source": [
    "def func():\n",
    "    print('Hello')\n",
    "\n",
    "func()"
   ]
  },
  {
   "cell_type": "code",
   "execution_count": 2,
   "metadata": {},
   "outputs": [
    {
     "name": "stdout",
     "output_type": "stream",
     "text": [
      "Hello python\n"
     ]
    }
   ],
   "source": [
    "def func(s):\n",
    "    print('Hello',s)\n",
    "\n",
    "func('python')"
   ]
  },
  {
   "cell_type": "code",
   "execution_count": 5,
   "metadata": {},
   "outputs": [
    {
     "name": "stdout",
     "output_type": "stream",
     "text": [
      "Hello Python!\n",
      "Python\n",
      "Hello Python!\n",
      "None\n"
     ]
    }
   ],
   "source": [
    "def func(s):\n",
    "    s += '!'\n",
    "    print('Hello',s)\n",
    "\n",
    "s = 'Python'\n",
    "func(s)\n",
    "print(s)\n",
    "k = func(s)\n",
    "print(k)"
   ]
  },
  {
   "cell_type": "code",
   "execution_count": 7,
   "metadata": {},
   "outputs": [
    {
     "name": "stdout",
     "output_type": "stream",
     "text": [
      "Hello python!\n"
     ]
    }
   ],
   "source": [
    "def func(s):\n",
    "    s += '!'\n",
    "    return 'Hello ' + s\n",
    "\n",
    "k = func('python')\n",
    "print(k)"
   ]
  },
  {
   "cell_type": "code",
   "execution_count": 30,
   "metadata": {},
   "outputs": [
    {
     "name": "stdout",
     "output_type": "stream",
     "text": [
      "11\n"
     ]
    }
   ],
   "source": [
    "def func(x):\n",
    "    return x + 5\n",
    "\n",
    "y = func(6)\n",
    "print(y)"
   ]
  },
  {
   "cell_type": "code",
   "execution_count": 31,
   "metadata": {},
   "outputs": [
    {
     "name": "stdout",
     "output_type": "stream",
     "text": [
      "[1, 2, 3, 100]\n",
      "[1, 2, 3, 100]\n"
     ]
    }
   ],
   "source": [
    "def func(a):\n",
    "    a += [100]\n",
    "    return a\n",
    "\n",
    "b = [1, 2, 3]\n",
    "c = func(b)\n",
    "print(b)\n",
    "print(c)"
   ]
  },
  {
   "cell_type": "code",
   "execution_count": 32,
   "metadata": {},
   "outputs": [
    {
     "name": "stdout",
     "output_type": "stream",
     "text": [
      "[1, 2, 3]\n",
      "[1, 2, 3, 100]\n"
     ]
    }
   ],
   "source": [
    "def func(a):\n",
    "    a = a + [100]\n",
    "    return a\n",
    "\n",
    "b = [1, 2, 3]\n",
    "c = func(b)\n",
    "print(b)\n",
    "print(c)"
   ]
  },
  {
   "cell_type": "code",
   "execution_count": 33,
   "metadata": {},
   "outputs": [
    {
     "name": "stdout",
     "output_type": "stream",
     "text": [
      "python\n",
      "python!\n"
     ]
    }
   ],
   "source": [
    "def func(a):\n",
    "    a += '!'\n",
    "    return a\n",
    "\n",
    "b = 'python'\n",
    "c = func(b)\n",
    "print(b)\n",
    "print(c)"
   ]
  },
  {
   "cell_type": "code",
   "execution_count": 34,
   "metadata": {},
   "outputs": [
    {
     "name": "stdout",
     "output_type": "stream",
     "text": [
      "14 12\n"
     ]
    }
   ],
   "source": [
    "def pram(a,b):\n",
    "    return 2 * (a + b), a * b\n",
    "\n",
    "p, s = pram(3, 4)\n",
    "print(p, s)"
   ]
  },
  {
   "cell_type": "code",
   "execution_count": 37,
   "metadata": {},
   "outputs": [
    {
     "name": "stdout",
     "output_type": "stream",
     "text": [
      "960\n"
     ]
    }
   ],
   "source": [
    "def func(n):  \n",
    "    def func1(b):\n",
    "        for i in range(len(b)):\n",
    "            b[i] = (a[i] + i) * 2 + 10\n",
    "        return b\n",
    "    \n",
    "    a = [(i + 1) ** 2 for i in range(n)]\n",
    "    c = func1(a)\n",
    "    #print(c)\n",
    "    return sum(c)\n",
    "\n",
    "print(func(10))\n"
   ]
  }
 ],
 "metadata": {
  "kernelspec": {
   "display_name": "Python 3",
   "language": "python",
   "name": "python3"
  },
  "language_info": {
   "codemirror_mode": {
    "name": "ipython",
    "version": 3
   },
   "file_extension": ".py",
   "mimetype": "text/x-python",
   "name": "python",
   "nbconvert_exporter": "python",
   "pygments_lexer": "ipython3",
   "version": "3.8.3"
  }
 },
 "nbformat": 4,
 "nbformat_minor": 2
}
