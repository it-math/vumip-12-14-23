{
 "cells": [
  {
   "attachments": {},
   "cell_type": "markdown",
   "metadata": {},
   "source": [
    "#### Потоковый ввод"
   ]
  },
  {
   "attachments": {},
   "cell_type": "markdown",
   "metadata": {},
   "source": [
    "**sys.stdin** - итератор потока ввода. Является встроенным\n",
    "итерируемым объектом.\n",
    "\n",
    "Весь текст, который мы вводим попадает в поток ввода (stdin).\n",
    "Все поступающие данные хранятся в нем до тех пор, пока мы\n",
    "их не прочитаем.\n",
    "\n",
    "После прочтения данных они удаляются из потока ввода и\n",
    "прочитать их второй раз будет невозможно."
   ]
  },
  {
   "attachments": {},
   "cell_type": "markdown",
   "metadata": {},
   "source": [
    "Итератор выдает строки, которые вводит пользователь.\n",
    "Нам неизвестно сколько элементов в потоке ввода (в итераторе) до тех пор, пока не будет введена последняя строка."
   ]
  },
  {
   "attachments": {},
   "cell_type": "markdown",
   "metadata": {},
   "source": [
    "Если мы не знаем сколько строк собирается вводить пользователь и не знаем какой строкой он хочет закончить свой ввод данных, то надо применять **stdin**."
   ]
  },
  {
   "attachments": {},
   "cell_type": "markdown",
   "metadata": {},
   "source": [
    "Для работы с **stdin** надо импортировать модуль **sys**."
   ]
  },
  {
   "cell_type": "code",
   "execution_count": 1,
   "metadata": {},
   "outputs": [],
   "source": [
    "import sys\n",
    "\n",
    "a = []\n",
    "for line in sys.stdin:\n",
    "    a.append(line.strip())\n",
    "print(a)"
   ]
  },
  {
   "attachments": {},
   "cell_type": "markdown",
   "metadata": {},
   "source": [
    "Окончание ввода:\n",
    "\n",
    "Ctrl + D (IDLE, Pycharm, консоль Linux)\n",
    "\n",
    "Ctrl + Z, Enter (консоль Windows)"
   ]
  },
  {
   "cell_type": "code",
   "execution_count": 1,
   "metadata": {},
   "outputs": [
    {
     "name": "stdout",
     "output_type": "stream",
     "text": [
      "hgfghf ghfghh\n"
     ]
    }
   ],
   "source": [
    "x, y = input(), input()\n",
    "print(x, y)"
   ]
  },
  {
   "cell_type": "code",
   "execution_count": null,
   "metadata": {},
   "outputs": [],
   "source": [
    "s1 = sys.stdin.read()\n",
    "s2 = sys.stdin.readlines()\n",
    "s3 = list(map(str.strip, sys.stdin))"
   ]
  }
 ],
 "metadata": {
  "kernelspec": {
   "display_name": "Python 3",
   "language": "python",
   "name": "python3"
  },
  "language_info": {
   "codemirror_mode": {
    "name": "ipython",
    "version": 3
   },
   "file_extension": ".py",
   "mimetype": "text/x-python",
   "name": "python",
   "nbconvert_exporter": "python",
   "pygments_lexer": "ipython3",
   "version": "3.8.3"
  },
  "orig_nbformat": 4
 },
 "nbformat": 4,
 "nbformat_minor": 2
}
