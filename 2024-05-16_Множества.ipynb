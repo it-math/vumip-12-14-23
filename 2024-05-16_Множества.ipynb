{
 "cells": [
  {
   "cell_type": "code",
   "execution_count": 63,
   "metadata": {},
   "outputs": [
    {
     "name": "stdout",
     "output_type": "stream",
     "text": [
      "<class 'set'>\n"
     ]
    }
   ],
   "source": [
    "s = {1}\n",
    "print(type(s))"
   ]
  },
  {
   "cell_type": "code",
   "execution_count": 64,
   "metadata": {},
   "outputs": [
    {
     "name": "stdout",
     "output_type": "stream",
     "text": [
      "{0, 5, 7, 'hello', 'g'}\n",
      "<class 'dict'>\n"
     ]
    }
   ],
   "source": [
    "s1 = {5, 0, 'hello', 'g', 7}\n",
    "print(s1)\n",
    "ss = {} # это не множество\n",
    "print(type(ss))"
   ]
  },
  {
   "cell_type": "code",
   "execution_count": 65,
   "metadata": {},
   "outputs": [
    {
     "name": "stdout",
     "output_type": "stream",
     "text": [
      "[0, 5, 7, 'hello', 'g']\n"
     ]
    }
   ],
   "source": [
    "ss = set()\n",
    "a1 = list(s1)\n",
    "print(a1)"
   ]
  },
  {
   "cell_type": "code",
   "execution_count": 66,
   "metadata": {},
   "outputs": [
    {
     "name": "stdout",
     "output_type": "stream",
     "text": [
      "{0, 5, 7, -100000000000000000000000000, 1000000000000000}\n",
      "0\n",
      "5\n",
      "7\n",
      "-100000000000000000000000000\n",
      "1000000000000000\n"
     ]
    }
   ],
   "source": [
    "s1 = {5, 0, 1000000000000000, -100000000000000000000000000, 7}\n",
    "print(s1)\n",
    "for x in s1:\n",
    "    print(x)"
   ]
  },
  {
   "cell_type": "code",
   "execution_count": 67,
   "metadata": {},
   "outputs": [
    {
     "name": "stdout",
     "output_type": "stream",
     "text": [
      "100 20\n",
      "108 28\n"
     ]
    }
   ],
   "source": [
    "import sys\n",
    "s = set()\n",
    "a = []\n",
    "print(s.__sizeof__(), a.__sizeof__())\n",
    "print(sys.getsizeof(s), sys.getsizeof(a))"
   ]
  },
  {
   "cell_type": "code",
   "execution_count": 68,
   "metadata": {},
   "outputs": [
    {
     "name": "stdout",
     "output_type": "stream",
     "text": [
      "356 48\n",
      "364 56\n"
     ]
    }
   ],
   "source": [
    "import sys\n",
    "s = {10,30,20,25,35,45,55}\n",
    "a = [10,30,20,25,35,45,55]\n",
    "print(s.__sizeof__(), a.__sizeof__())\n",
    "print(sys.getsizeof(s), sys.getsizeof(a))"
   ]
  },
  {
   "cell_type": "code",
   "execution_count": 69,
   "metadata": {},
   "outputs": [
    {
     "name": "stdout",
     "output_type": "stream",
     "text": [
      "{1, 2, 3, 5}\n",
      "{1, 2, 3, 5, -1000000000000000000000}\n",
      "{1, 2, 3, 4, 5, -1000000000000000000000}\n",
      "{1, 2, 3, 4, 5, -4, -1000000000000000000000}\n"
     ]
    }
   ],
   "source": [
    "s = {1, 2, 3}\n",
    "s.add(5)\n",
    "print(s)\n",
    "s.add(-1000000000000000000000)\n",
    "print(s)\n",
    "s.add(4)\n",
    "print(s)\n",
    "s.add(-4)\n",
    "print(s)"
   ]
  },
  {
   "cell_type": "code",
   "execution_count": 70,
   "metadata": {},
   "outputs": [
    {
     "name": "stdout",
     "output_type": "stream",
     "text": [
      "{1, 2, 3, 4, 5, 6, 7, -1000000000000000000000, -4}\n",
      "{0, 1, 2, 3, 4, 5, 6, 7, -1000000000000000000000, -4}\n"
     ]
    }
   ],
   "source": [
    "s = {1, 2, 3, 4, 5, -4, -1000000000000000000000}\n",
    "s.update({3, 5, 6, 7})\n",
    "print(s)\n",
    "s.update({0})\n",
    "print(s)"
   ]
  },
  {
   "cell_type": "code",
   "execution_count": 71,
   "metadata": {},
   "outputs": [
    {
     "name": "stdout",
     "output_type": "stream",
     "text": [
      "{0, 1, 2, 3, 4, 5, 6, 7, 34, 67, -4, 13, 15, -1000000000000000000000}\n"
     ]
    }
   ],
   "source": [
    "s = {0, 1, 2, 3, 4, 5, 6, 7, -1000000000000000000000, -4}\n",
    "s.update({13, 15}, {34, 67})\n",
    "print(s)"
   ]
  },
  {
   "cell_type": "code",
   "execution_count": 72,
   "metadata": {},
   "outputs": [
    {
     "name": "stdout",
     "output_type": "stream",
     "text": [
      "{'l', 'h', 'e', 'o'}\n"
     ]
    }
   ],
   "source": [
    "ss = 'hello'\n",
    "s = set(ss)\n",
    "print(s)"
   ]
  },
  {
   "cell_type": "code",
   "execution_count": 73,
   "metadata": {},
   "outputs": [
    {
     "name": "stdout",
     "output_type": "stream",
     "text": [
      "{'l', 'h', 'e', 'o'}\n"
     ]
    }
   ],
   "source": [
    "s.update('hello')\n",
    "print(s)"
   ]
  },
  {
   "cell_type": "code",
   "execution_count": 74,
   "metadata": {},
   "outputs": [
    {
     "name": "stdout",
     "output_type": "stream",
     "text": [
      "{'l', 'e', 'o', 'h', 'hello'}\n"
     ]
    }
   ],
   "source": [
    "s.update({'hello'})\n",
    "print(s)"
   ]
  },
  {
   "cell_type": "code",
   "execution_count": 75,
   "metadata": {},
   "outputs": [
    {
     "name": "stdout",
     "output_type": "stream",
     "text": [
      "{'l', 'e', 'h', 'hello'}\n"
     ]
    }
   ],
   "source": [
    "s.discard('o')\n",
    "print(s)"
   ]
  },
  {
   "cell_type": "code",
   "execution_count": 76,
   "metadata": {},
   "outputs": [
    {
     "name": "stdout",
     "output_type": "stream",
     "text": [
      "{'l', 'e', 'h', 'hello'}\n"
     ]
    }
   ],
   "source": [
    "s.discard(34)\n",
    "print(s)"
   ]
  },
  {
   "cell_type": "code",
   "execution_count": 77,
   "metadata": {},
   "outputs": [
    {
     "name": "stdout",
     "output_type": "stream",
     "text": [
      "{'l', 'h', 'hello'}\n"
     ]
    }
   ],
   "source": [
    "s.remove('e')\n",
    "print(s)"
   ]
  },
  {
   "cell_type": "code",
   "execution_count": 78,
   "metadata": {},
   "outputs": [
    {
     "ename": "KeyError",
     "evalue": "67",
     "output_type": "error",
     "traceback": [
      "\u001b[1;31m---------------------------------------------------------------------------\u001b[0m",
      "\u001b[1;31mKeyError\u001b[0m                                  Traceback (most recent call last)",
      "Cell \u001b[1;32mIn[78], line 1\u001b[0m\n\u001b[1;32m----> 1\u001b[0m \u001b[43ms\u001b[49m\u001b[38;5;241;43m.\u001b[39;49m\u001b[43mremove\u001b[49m\u001b[43m(\u001b[49m\u001b[38;5;241;43m67\u001b[39;49m\u001b[43m)\u001b[49m\n\u001b[0;32m      2\u001b[0m \u001b[38;5;28mprint\u001b[39m(s)\n",
      "\u001b[1;31mKeyError\u001b[0m: 67"
     ]
    }
   ],
   "source": [
    "s.remove(67)\n",
    "print(s)"
   ]
  },
  {
   "cell_type": "code",
   "execution_count": null,
   "metadata": {},
   "outputs": [
    {
     "name": "stdout",
     "output_type": "stream",
     "text": [
      "{56}\n"
     ]
    }
   ],
   "source": [
    "if 67 in s:\n",
    "    s.remove(67)\n",
    "else:\n",
    "    s.add(56)\n",
    "print(s)"
   ]
  },
  {
   "cell_type": "code",
   "execution_count": null,
   "metadata": {},
   "outputs": [
    {
     "name": "stdout",
     "output_type": "stream",
     "text": [
      "56\n",
      "set()\n"
     ]
    }
   ],
   "source": [
    "k = s.pop()\n",
    "print(k)\n",
    "print(s)"
   ]
  },
  {
   "cell_type": "code",
   "execution_count": 79,
   "metadata": {},
   "outputs": [
    {
     "name": "stdout",
     "output_type": "stream",
     "text": [
      "ok\n"
     ]
    }
   ],
   "source": [
    "s = {1,2,3}\n",
    "if 1 in s:\n",
    "    print('ok')"
   ]
  },
  {
   "cell_type": "code",
   "execution_count": null,
   "metadata": {},
   "outputs": [],
   "source": []
  }
 ],
 "metadata": {
  "kernelspec": {
   "display_name": "Python 3",
   "language": "python",
   "name": "python3"
  },
  "language_info": {
   "codemirror_mode": {
    "name": "ipython",
    "version": 3
   },
   "file_extension": ".py",
   "mimetype": "text/x-python",
   "name": "python",
   "nbconvert_exporter": "python",
   "pygments_lexer": "ipython3",
   "version": "3.8.3"
  }
 },
 "nbformat": 4,
 "nbformat_minor": 2
}
